{
 "cells": [
  {
   "cell_type": "code",
   "execution_count": 1,
   "id": "5c61dec4-7582-47bc-b72e-93ea2ea9c8be",
   "metadata": {},
   "outputs": [
    {
     "name": "stdout",
     "output_type": "stream",
     "text": [
      "Requirement already satisfied: Pillow in c:\\users\\sfl-3\\appdata\\roaming\\python\\python311\\site-packages (10.2.0)\n"
     ]
    }
   ],
   "source": [
    "!pip install Pillow"
   ]
  },
  {
   "cell_type": "code",
   "execution_count": 11,
   "id": "7adfdcf3-cfd5-4ea2-ac15-3d6eac27f1bb",
   "metadata": {},
   "outputs": [],
   "source": [
    "from PIL import Image\n",
    "img = Image.open('vision3.png')\n",
    "img.show()"
   ]
  },
  {
   "cell_type": "code",
   "execution_count": 3,
   "id": "d9048612-a8ed-4d7b-8c87-c842dff34d0f",
   "metadata": {},
   "outputs": [
    {
     "name": "stdout",
     "output_type": "stream",
     "text": [
      "Requirement already satisfied: google-generativeai in c:\\users\\sfl-3\\anaconda3\\lib\\site-packages (0.8.4)\n",
      "Requirement already satisfied: google-ai-generativelanguage==0.6.15 in c:\\users\\sfl-3\\anaconda3\\lib\\site-packages (from google-generativeai) (0.6.15)\n",
      "Requirement already satisfied: google-api-core in c:\\users\\sfl-3\\anaconda3\\lib\\site-packages (from google-generativeai) (2.24.1)\n",
      "Requirement already satisfied: google-api-python-client in c:\\users\\sfl-3\\anaconda3\\lib\\site-packages (from google-generativeai) (2.160.0)\n",
      "Requirement already satisfied: google-auth>=2.15.0 in c:\\users\\sfl-3\\appdata\\roaming\\python\\python311\\site-packages (from google-generativeai) (2.28.0)\n",
      "Requirement already satisfied: protobuf in c:\\users\\sfl-3\\anaconda3\\lib\\site-packages (from google-generativeai) (5.29.3)\n",
      "Requirement already satisfied: pydantic in c:\\users\\sfl-3\\anaconda3\\lib\\site-packages (from google-generativeai) (2.10.4)\n",
      "Requirement already satisfied: tqdm in c:\\users\\sfl-3\\anaconda3\\lib\\site-packages (from google-generativeai) (4.65.0)\n",
      "Requirement already satisfied: typing-extensions in c:\\users\\sfl-3\\anaconda3\\lib\\site-packages (from google-generativeai) (4.12.2)\n",
      "Requirement already satisfied: proto-plus<2.0.0dev,>=1.22.3 in c:\\users\\sfl-3\\anaconda3\\lib\\site-packages (from google-ai-generativelanguage==0.6.15->google-generativeai) (1.26.0)\n",
      "Requirement already satisfied: cachetools<6.0,>=2.0.0 in c:\\users\\sfl-3\\appdata\\roaming\\python\\python311\\site-packages (from google-auth>=2.15.0->google-generativeai) (5.3.2)\n",
      "Requirement already satisfied: pyasn1-modules>=0.2.1 in c:\\users\\sfl-3\\anaconda3\\lib\\site-packages (from google-auth>=2.15.0->google-generativeai) (0.2.8)\n",
      "Requirement already satisfied: rsa<5,>=3.1.4 in c:\\users\\sfl-3\\appdata\\roaming\\python\\python311\\site-packages (from google-auth>=2.15.0->google-generativeai) (4.9)\n",
      "Requirement already satisfied: googleapis-common-protos<2.0.dev0,>=1.56.2 in c:\\users\\sfl-3\\anaconda3\\lib\\site-packages (from google-api-core->google-generativeai) (1.67.0)\n",
      "Requirement already satisfied: requests<3.0.0.dev0,>=2.18.0 in c:\\users\\sfl-3\\anaconda3\\lib\\site-packages (from google-api-core->google-generativeai) (2.31.0)\n",
      "Requirement already satisfied: httplib2<1.dev0,>=0.19.0 in c:\\users\\sfl-3\\anaconda3\\lib\\site-packages (from google-api-python-client->google-generativeai) (0.22.0)\n",
      "Requirement already satisfied: google-auth-httplib2<1.0.0,>=0.2.0 in c:\\users\\sfl-3\\anaconda3\\lib\\site-packages (from google-api-python-client->google-generativeai) (0.2.0)\n",
      "Requirement already satisfied: uritemplate<5,>=3.0.1 in c:\\users\\sfl-3\\anaconda3\\lib\\site-packages (from google-api-python-client->google-generativeai) (4.1.1)\n",
      "Requirement already satisfied: annotated-types>=0.6.0 in c:\\users\\sfl-3\\anaconda3\\lib\\site-packages (from pydantic->google-generativeai) (0.7.0)\n",
      "Requirement already satisfied: pydantic-core==2.27.2 in c:\\users\\sfl-3\\anaconda3\\lib\\site-packages (from pydantic->google-generativeai) (2.27.2)\n",
      "Requirement already satisfied: colorama in c:\\users\\sfl-3\\anaconda3\\lib\\site-packages (from tqdm->google-generativeai) (0.4.6)\n",
      "Requirement already satisfied: grpcio<2.0dev,>=1.33.2 in c:\\users\\sfl-3\\anaconda3\\lib\\site-packages (from google-api-core->google-generativeai) (1.70.0)\n",
      "Requirement already satisfied: grpcio-status<2.0.dev0,>=1.33.2 in c:\\users\\sfl-3\\anaconda3\\lib\\site-packages (from google-api-core->google-generativeai) (1.70.0)\n",
      "Requirement already satisfied: pyparsing!=3.0.0,!=3.0.1,!=3.0.2,!=3.0.3,<4,>=2.4.2 in c:\\users\\sfl-3\\anaconda3\\lib\\site-packages (from httplib2<1.dev0,>=0.19.0->google-api-python-client->google-generativeai) (3.0.9)\n",
      "Requirement already satisfied: pyasn1<0.5.0,>=0.4.6 in c:\\users\\sfl-3\\anaconda3\\lib\\site-packages (from pyasn1-modules>=0.2.1->google-auth>=2.15.0->google-generativeai) (0.4.8)\n",
      "Requirement already satisfied: charset-normalizer<4,>=2 in c:\\users\\sfl-3\\anaconda3\\lib\\site-packages (from requests<3.0.0.dev0,>=2.18.0->google-api-core->google-generativeai) (2.0.4)\n",
      "Requirement already satisfied: idna<4,>=2.5 in c:\\users\\sfl-3\\anaconda3\\lib\\site-packages (from requests<3.0.0.dev0,>=2.18.0->google-api-core->google-generativeai) (3.4)\n",
      "Requirement already satisfied: urllib3<3,>=1.21.1 in c:\\users\\sfl-3\\anaconda3\\lib\\site-packages (from requests<3.0.0.dev0,>=2.18.0->google-api-core->google-generativeai) (1.26.18)\n",
      "Requirement already satisfied: certifi>=2017.4.17 in c:\\users\\sfl-3\\anaconda3\\lib\\site-packages (from requests<3.0.0.dev0,>=2.18.0->google-api-core->google-generativeai) (2024.2.2)\n"
     ]
    }
   ],
   "source": [
    "!pip install google-generativeai"
   ]
  },
  {
   "cell_type": "code",
   "execution_count": 8,
   "id": "604028a7-4ecf-4e83-98f8-1c443188e24a",
   "metadata": {},
   "outputs": [
    {
     "data": {
      "text/plain": [
       "True"
      ]
     },
     "execution_count": 8,
     "metadata": {},
     "output_type": "execute_result"
    }
   ],
   "source": [
    "from dotenv import load_dotenv\n",
    "load_dotenv()"
   ]
  },
  {
   "cell_type": "code",
   "execution_count": 9,
   "id": "290fa553-e536-4eba-be72-7245be109648",
   "metadata": {},
   "outputs": [
    {
     "name": "stdout",
     "output_type": "stream",
     "text": [
      "Here's a description of the image:\n",
      "\n",
      "The image shows a wooden pantry shelf stocked with a variety of fresh produce and dry goods. \n",
      "\n",
      "\n",
      "Here's a breakdown of what's on each shelf:\n",
      "\n",
      "\n",
      "* **Top Shelf:** A blue bowl containing carrots and tomatoes sits to the left.  A wicker basket holds several potatoes. To the right, there's a head of cauliflower nestled among broccoli florets.\n",
      "\n",
      "\n",
      "* **Second Shelf:**  From left to right, the shelf contains glass jars filled with buckwheat, rice,  a plastic bag of spinach, a jar of chickpeas, and a jar of pasta.\n",
      "\n",
      "\n",
      "* **Third Shelf:** A whole cabbage, red radishes, red and yellow bell peppers, and zucchini are neatly arranged on this shelf.\n",
      "\n",
      "\n",
      "* **Fourth Shelf:**  Glass jars of rice and quinoa sit alongside red bell peppers and avocados. Two wicker baskets contain bread rolls.\n",
      "\n",
      "\n",
      "* **Bottom Shelf:** Two wicker baskets, one containing cucumbers and eggs, the other more bread rolls, and a small square glass container of what looks like rice are on this shelf.\n",
      "\n",
      "\n",
      "The overall impression is one of organized, healthy, and well-stocked pantry.  The lighting is even, and the items are displayed in a way that is both visually appealing and functional.\n",
      "\n"
     ]
    }
   ],
   "source": [
    "import google.generativeai as genai\n",
    "import os\n",
    "\n",
    "genai.configure(api_key=os.environ['GEMINI_API_KEY'])\n",
    "\n",
    "model = genai.GenerativeModel(\"gemini-1.5-flash\")\n",
    "\n",
    "response = model.generate_content(img)\n",
    "\n",
    "print(response.text)"
   ]
  },
  {
   "cell_type": "code",
   "execution_count": 13,
   "id": "886ec43f-ba27-4f42-a9be-e6ab88b4bf63",
   "metadata": {},
   "outputs": [
    {
     "name": "stdout",
     "output_type": "stream",
     "text": [
      "Here are some Indian vegetarian dishes you could make with the ingredients shown in the pantry image:\n",
      "\n",
      "**Dishes that use multiple ingredients:**\n",
      "\n",
      "* **Aloo Gobi:** This classic dish uses potatoes (aloo) and cauliflower (gobi).  You can add spices from your spice rack (not shown, but assumed available in a typical Indian kitchen) for flavor.  The recipe often includes onions and/or tomatoes, which are in your pantry.\n",
      "* **Vegetable Curry:** You could make a mixed vegetable curry with potatoes, cauliflower, carrots, zucchini, peas (if available in your pantry), and spinach.  Use any lentils or chickpeas for protein and rice for serving.\n",
      "* **Rajma Chawal (Kidney Bean and Rice):** While kidney beans aren't explicitly shown, the chickpeas can be substituted.  Serve the chickpeas with rice.  \n",
      "* **Simple Vegetable Biryani:**  While not a traditional biryani (it requires more spices and often meat), you could make a simpler version using rice as a base and incorporating the available vegetables, and the pasta if you want something less traditional.\n",
      "\n",
      "\n",
      "**Simpler Dishes:**\n",
      "\n",
      "* **Mashed Potatoes:**  A simple side dish using the potatoes.\n",
      "* **Boiled Vegetables with Spices:**  Simply boil carrots, potatoes, cauliflower, and zucchini with your preferred spices.\n",
      "* **Spinach Salad:** A quick and easy salad using the fresh spinach.  You could add the radishes for some crunch.\n",
      "\n",
      "**Things to consider:**\n",
      "\n",
      "* **Spices:** The image doesn't show spices.  Indian cooking relies heavily on spices; you'll need to have a good supply of common Indian spices like turmeric, cumin, coriander, chili powder, garam masala etc., to make most of these dishes flavorful.\n",
      "* **Oils/Ghee:** You'll need cooking oil or ghee (clarified butter).\n",
      "* **Onions and Garlic:** These common Indian cooking staples are not shown in the image but are essential for many dishes.\n",
      "\n",
      "\n",
      "\n",
      "Remember to adjust the recipes based on your available spices and preferences.  These are just suggestions based on commonly used ingredients in Indian cooking and what is visible in the pantry image.\n",
      "\n"
     ]
    }
   ],
   "source": [
    "prompt = \"What Indian dishes can I make using only the items from this vegetarian pantry?\"\n",
    "\n",
    "resp = model.generate_content([prompt,img])\n",
    "print(resp.text)"
   ]
  },
  {
   "cell_type": "code",
   "execution_count": 14,
   "id": "7fde8f22-4955-4b6f-885a-1e308670738f",
   "metadata": {},
   "outputs": [
    {
     "name": "stdout",
     "output_type": "stream",
     "text": [
      "Here is a vegetarian Indian dinner plan for a week, utilizing the pantry items shown in the image.  I'll assume you have basic spices like turmeric, cumin, coriander, garam masala, chili powder, etc., available as well as oil or ghee for cooking.  We'll adapt some recipes to work with what you have.\n",
      "\n",
      "**Monday:**  **Rajma Chawal (Kidney Bean Curry with Rice)**\n",
      "\n",
      "*   Use the kidney beans (assuming they're in one of your jars).\n",
      "*   Sauté onions (not shown, but hopefully you have some!), tomatoes, and ginger/garlic paste (not shown, but assume you have these).\n",
      "*   Add spices (turmeric, cumin, coriander, garam masala, chili powder).\n",
      "*   Simmer the rajma with water until tender.\n",
      "*   Serve with rice (from the jars).\n",
      "\n",
      "**Tuesday:** **Aloo Gobi (Potato and Cauliflower Curry)**\n",
      "\n",
      "*   Use potatoes and cauliflower from the shelves.\n",
      "*   Use similar spices as Rajma, adding a touch of mustard seeds (hopefully you have this) for extra flavor.\n",
      "*   You can add peas or carrots if you have some on hand.\n",
      "*   Serve with roti or naan (not pictured, substitute with rice).\n",
      "\n",
      "**Wednesday:** **Chana Masala (Chickpea Curry)**\n",
      "\n",
      "*   Use the chickpeas from the jars.\n",
      "*   Sauté onions, tomatoes, and ginger/garlic paste.\n",
      "*   Add spices (turmeric, cumin, coriander, garam masala, chili powder).\n",
      "*   Simmer the chickpeas until tender.\n",
      "*   Serve with rice or roti.\n",
      "\n",
      "**Thursday:** **Spinach and Potato Curry (Palak Aloo)**\n",
      "\n",
      "*   Use the spinach and potatoes.\n",
      "*   Sauté onions, tomatoes, and ginger/garlic paste.\n",
      "*   Add spices, including a generous amount of turmeric to maintain the spinach’s bright green color.\n",
      "*   Simmer spinach and potatoes until tender.\n",
      "*   Serve with rice.\n",
      "\n",
      "**Friday:**  **Vegetable Pulao (Rice Pilaf)**\n",
      "\n",
      "*   Use rice as the base.\n",
      "*   Sauté onions, peas (if available) carrots (if available), and other vegetables you have on hand (zucchini, etc.)\n",
      "*   Add spices (turmeric, cumin, coriander).\n",
      "*   Add rice and sufficient water/broth, and simmer until cooked.\n",
      "\n",
      "\n",
      "**Saturday:** **Moong Dal Cheela (Savory Pancakes)**\n",
      "\n",
      "*   Use moong dal if it's in one of your jars (otherwise, substitute any lentils).\n",
      "*   Soak and grind the dal.\n",
      "*   Add onions, green chilies (if available), spices (cumin, coriander, turmeric).\n",
      "*   Make thin pancakes and cook on a griddle. Serve with chutney (if you have any ingredients for it).\n",
      "\n",
      "\n",
      "**Sunday:** **Vegetable Biryani (Rice Dish)**\n",
      "\n",
      "*  Use rice as a base.\n",
      "*  Use a combination of vegetables available such as potatoes, carrots (if you have any), peas (if you have any), cauliflower, and spinach.\n",
      "*  Fry onions, ginger garlic paste, and spices in ghee or oil.\n",
      "*  Add vegetables and cook slightly until tender.\n",
      "*  Layer the rice and vegetable mixture in a pot, and cook until the rice is well-cooked and the flavors have combined.\n",
      "\n",
      "\n",
      "**Important Notes:**\n",
      "\n",
      "*   This is a flexible plan.  If you have other pantry staples like lentils, other beans, or frozen vegetables, feel free to incorporate them into these dishes or create entirely new ones.\n",
      "*   Adjust spice levels according to your preference.\n",
      "*   The breads (roti/naan) are not shown, but if you have the ingredients for them, they are excellent complements to many of these dishes.  If not, rice is a great substitute.\n",
      "*   This plan assumes you have basic cooking oils/ghee and common Indian spices.\n",
      "\n",
      "\n",
      "Remember to always check the freshness of your ingredients before using them! Enjoy your week of delicious Indian vegetarian dinners.\n",
      "\n"
     ]
    }
   ],
   "source": [
    "prompt = \"Can you help me plan a week of Indian vegetarian dinners using pantry items?\"\n",
    "response = model.generate_content([prompt, img])\n",
    "print(response.text)"
   ]
  },
  {
   "cell_type": "code",
   "execution_count": 16,
   "id": "7bcfd412-eb40-4f1a-9ece-a5cc778fff43",
   "metadata": {},
   "outputs": [
    {
     "name": "stdout",
     "output_type": "stream",
     "text": [
      "* Running on local URL:  http://127.0.0.1:7861\n",
      "\n",
      "To create a public link, set `share=True` in `launch()`.\n"
     ]
    },
    {
     "data": {
      "text/html": [
       "<div><iframe src=\"http://127.0.0.1:7861/\" width=\"100%\" height=\"500\" allow=\"autoplay; camera; microphone; clipboard-read; clipboard-write;\" frameborder=\"0\" allowfullscreen></iframe></div>"
      ],
      "text/plain": [
       "<IPython.core.display.HTML object>"
      ]
     },
     "metadata": {},
     "output_type": "display_data"
    },
    {
     "data": {
      "text/plain": []
     },
     "execution_count": 16,
     "metadata": {},
     "output_type": "execute_result"
    }
   ],
   "source": [
    "import gradio as gr\n",
    "import google.generativeai as genai\n",
    "import os\n",
    "\n",
    "# Set up Gemini\n",
    "genai.configure(api_key=os.environ['GEMINI_API_KEY'])\n",
    "model = genai.GenerativeModel(\"gemini-1.5-flash\")\n",
    "\n",
    "\n",
    "# Function to get response from Gemini\n",
    "def ask_gemini(image, question):\n",
    "    if image and question:\n",
    "        response = model.generate_content([question, image])\n",
    "        return response.text\n",
    "    return \"Please provide both image and question.\"\n",
    "\n",
    "# Gradio Interface\n",
    "gr.Interface(\n",
    "    fn=ask_gemini,\n",
    "    inputs=[gr.Image(type=\"pil\"), gr.Textbox(placeholder=\"Ask a question about the image...\")],\n",
    "    outputs=\"text\",\n",
    "    title=\"🧠 Ask Gemini About an Image\"\n",
    ").launch()\n"
   ]
  },
  {
   "cell_type": "code",
   "execution_count": null,
   "id": "e0bdc4d7-fde0-4035-bd6c-441adbb0aec7",
   "metadata": {},
   "outputs": [],
   "source": []
  },
  {
   "cell_type": "code",
   "execution_count": null,
   "id": "81cd3925-b5d3-4f61-9260-b4bc77351cab",
   "metadata": {},
   "outputs": [],
   "source": []
  },
  {
   "cell_type": "code",
   "execution_count": null,
   "id": "3c4e6b3c-1645-495f-95bf-7702d61f597f",
   "metadata": {},
   "outputs": [],
   "source": []
  },
  {
   "cell_type": "code",
   "execution_count": null,
   "id": "bfe841e9-0c11-46c3-9c70-afafbcd872cf",
   "metadata": {},
   "outputs": [],
   "source": []
  },
  {
   "cell_type": "code",
   "execution_count": null,
   "id": "39579289-4de7-466c-be06-17ca4a8f095d",
   "metadata": {},
   "outputs": [],
   "source": []
  }
 ],
 "metadata": {
  "kernelspec": {
   "display_name": "Python 3 (ipykernel)",
   "language": "python",
   "name": "python3"
  },
  "language_info": {
   "codemirror_mode": {
    "name": "ipython",
    "version": 3
   },
   "file_extension": ".py",
   "mimetype": "text/x-python",
   "name": "python",
   "nbconvert_exporter": "python",
   "pygments_lexer": "ipython3",
   "version": "3.11.5"
  }
 },
 "nbformat": 4,
 "nbformat_minor": 5
}
